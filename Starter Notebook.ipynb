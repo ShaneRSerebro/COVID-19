{
 "nbformat": 4,
 "nbformat_minor": 2,
 "metadata": {
  "language_info": {
   "name": "python",
   "codemirror_mode": {
    "name": "ipython",
    "version": 3
   },
   "version": "3.7.6-final"
  },
  "orig_nbformat": 2,
  "file_extension": ".py",
  "mimetype": "text/x-python",
  "name": "python",
  "npconvert_exporter": "python",
  "pygments_lexer": "ipython3",
  "version": 3,
  "kernelspec": {
   "name": "python37664bitmainenvconda61e91a25290d42d78c248da3de2c3f2a",
   "display_name": "Python 3.7.6 64-bit ('mainenv': conda)"
  }
 },
 "cells": [
  {
   "cell_type": "code",
   "execution_count": 1,
   "metadata": {},
   "outputs": [],
   "source": [
    "import pandas as pd\n",
    "import numpy as np\n",
    "import seaborn as sb\n",
    "import os\n",
    "import folium\n",
    "import json"
   ]
  },
  {
   "cell_type": "code",
   "execution_count": 2,
   "metadata": {},
   "outputs": [],
   "source": [
    "main_path = os.path.abspath(os.getcwd())\n",
    "data_path = os.path.join(main_path, os.path.abspath(\"csse_covid_19_data\"))\n",
    "time_series_data_path = os.path.join(data_path, \"csse_covid_19_time_series\")\n",
    "time_series_confirmed_data_path = os.path.join(time_series_data_path, \"time_series_covid19_confirmed_global.csv\")\n",
    "main_ts_data_confirmed = pd.read_csv(time_series_confirmed_data_path)"
   ]
  },
  {
   "cell_type": "code",
   "execution_count": 3,
   "metadata": {},
   "outputs": [],
   "source": [
    "# Reordered columns for greater readibility\n",
    "\n",
    "ts_con_cols = main_ts_data_confirmed.columns.to_list()\n",
    "ts_con_cols_1 = ts_con_cols[1]\n",
    "ts_con_cols_2 = ts_con_cols[0]\n",
    "ts_con_cols_list = [ts_con_cols_1, ts_con_cols_2]\n",
    "ts_con_cols = ts_con_cols_list + ts_con_cols[2:]"
   ]
  },
  {
   "cell_type": "code",
   "execution_count": 4,
   "metadata": {},
   "outputs": [],
   "source": [
    "main_ts_data_confirmed = main_ts_data_confirmed[ts_con_cols]\n",
    "main_ts_data_confirmed = main_ts_data_confirmed.sort_values(by=[\"Country/Region\", \"Province/State\"])\n",
    "main_ts_data_confirmed = main_ts_data_confirmed.reset_index(drop=True)\n",
    "\n",
    "coordinate_data = main_ts_data_confirmed[[\"Country/Region\", \"Province/State\", \"Lat\", \"Long\"]]"
   ]
  },
  {
   "cell_type": "code",
   "execution_count": 5,
   "metadata": {},
   "outputs": [],
   "source": [
    "with open(\"world.geo.json\") as f:\n",
    "    world_map = json.load(f)"
   ]
  },
  {
   "cell_type": "code",
   "execution_count": 6,
   "metadata": {},
   "outputs": [],
   "source": [
    "row_num_SA = coordinate_data.loc[coordinate_data[\"Country/Region\"] == \"South Africa\"].index[0]\n",
    "coord_SA = coordinate_data.iloc[row_num_SA, 2:4]\n",
    "coord_SA = [coord_SA[0], coord_SA[1]]"
   ]
  },
  {
   "cell_type": "code",
   "execution_count": 22,
   "metadata": {},
   "outputs": [],
   "source": [
    "world_map = folium.Map(location=coord_SA, zoom_start=3.4)\n",
    "world_map.save(\"index.html\")"
   ]
  },
  {
   "cell_type": "code",
   "execution_count": null,
   "metadata": {},
   "outputs": [],
   "source": []
  }
 ]
}